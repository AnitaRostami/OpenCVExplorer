{
 "cells": [
  {
   "cell_type": "markdown",
   "id": "273ae082",
   "metadata": {},
   "source": [
    "# OpenCV Beginner Tutorials Notebook\n",
    "\n",
    "This is a collection of Python code examples for the requested OpenCV topics. You can copy these into a Jupyter Notebook (.ipynb) file for interactive execution. Each section includes a brief explanation, followed by the code in a markdown code block.\n",
    "\n",
    "Make sure you have OpenCV installed in your Python environment. If not, install it via `pip install opencv-python`. These examples use `cv2` (the OpenCV module) and assume a basic setup with a webcam for video capture.\n"
   ]
  },
  {
   "cell_type": "code",
   "execution_count": null,
   "id": "298c77a9",
   "metadata": {},
   "outputs": [],
   "source": [
    "import cv2\n",
    "import numpy as np\n",
    "from datetime import datetime"
   ]
  },
  {
   "cell_type": "markdown",
   "id": "5688d16d",
   "metadata": {},
   "source": [
    "## 1. How to Read, Write, Show Videos from Camera in OpenCV\n",
    "\n",
    "This example demonstrates capturing video from your camera (webcam), displaying it in a window, and writing (saving) it to a file. Press 'q' to quit.\n"
   ]
  },
  {
   "cell_type": "code",
   "execution_count": null,
   "id": "3e1b3d99",
   "metadata": {},
   "outputs": [],
   "source": [
    "# Open the default camera (index 0)\n",
    "cap = cv2.VideoCapture(0)\n",
    "\n",
    "# Check if camera opened successfully\n",
    "if not cap.isOpened():\n",
    "    print(\"Error: Could not open camera.\")\n",
    "    exit()\n",
    "\n",
    "# Define the codec and create VideoWriter object to save the video\n",
    "fourcc = cv2.VideoWriter_fourcc(*'XVID')  # Codec for .avi file\n",
    "out = cv2.VideoWriter('output.avi', fourcc, 20.0, (640, 480))  # Output file, fps, frame size\n",
    "\n",
    "while True:\n",
    "    # Capture frame-by-frame\n",
    "    ret, frame = cap.read()\n",
    "    \n",
    "    if not ret:\n",
    "        print(\"Error: Failed to capture frame.\")\n",
    "        break\n",
    "    \n",
    "    # Write the frame to the output file\n",
    "    out.write(frame)\n",
    "    \n",
    "    # Display the resulting frame\n",
    "    cv2.imshow('Camera Feed', frame)\n",
    "    \n",
    "    # Press 'q' to quit\n",
    "    if cv2.waitKey(1) & 0xFF == ord('q'):\n",
    "        break\n",
    "\n",
    "# Release everything when done\n",
    "cap.release()\n",
    "out.release()\n",
    "cv2.destroyAllWindows()"
   ]
  },
  {
   "cell_type": "markdown",
   "id": "17eda26c",
   "metadata": {},
   "source": [
    "\n",
    "## 2. Draw Geometric Shapes on Images using Python OpenCV\n",
    "\n",
    "This example loads a blank image and draws various shapes like lines, rectangles, circles, and text using OpenCV drawing functions.\n"
   ]
  },
  {
   "cell_type": "code",
   "execution_count": null,
   "id": "7df30b4b",
   "metadata": {},
   "outputs": [],
   "source": [
    "# Create a blank black image (height, width, channels)\n",
    "image = np.zeros((512, 512, 3), np.uint8)\n",
    "\n",
    "# Draw a line (start point, end point, color (BGR), thickness)\n",
    "cv2.line(image, (0, 0), (511, 511), (255, 0, 0), 5)  # Blue line\n",
    "\n",
    "# Draw a rectangle (top-left, bottom-right, color, thickness)\n",
    "cv2.rectangle(image, (384, 0), (510, 128), (0, 255, 0), 3)  # Green rectangle\n",
    "\n",
    "# Draw a circle (center, radius, color, thickness; -1 for filled)\n",
    "cv2.circle(image, (447, 63), 63, (0, 0, 255), -1)  # Red filled circle\n",
    "\n",
    "# Draw an ellipse (center, axes lengths, angle, start/end angles, color, thickness)\n",
    "cv2.ellipse(image, (256, 256), (100, 50), 0, 0, 180, (255, 255, 0), -1)  # Cyan half-ellipse\n",
    "\n",
    "# Draw a polygon (array of points, isClosed, color, thickness)\n",
    "pts = np.array([[10, 5], [20, 30], [70, 20], [50, 10]], np.int32)\n",
    "pts = pts.reshape((-1, 1, 2))\n",
    "cv2.polylines(image, [pts], True, (0, 255, 255), 3)  # Yellow polygon\n",
    "\n",
    "# Add text (text, position, font, scale, color, thickness)\n",
    "font = cv2.FONT_HERSHEY_SIMPLEX\n",
    "cv2.putText(image, 'OpenCV Shapes', (10, 500), font, 1, (255, 255, 255), 2, cv2.LINE_AA)\n",
    "\n",
    "# Display the image\n",
    "cv2.imshow('Shapes', image)\n",
    "cv2.waitKey(0)\n",
    "cv2.destroyAllWindows()"
   ]
  },
  {
   "cell_type": "markdown",
   "id": "72fb6cac",
   "metadata": {},
   "source": [
    "\n",
    "## 3. Setting Camera Parameters in OpenCV Python\n",
    "\n",
    "This example shows how to set properties like frame width, height, brightness, and FPS on a camera capture object.\n"
   ]
  },
  {
   "cell_type": "code",
   "execution_count": null,
   "id": "5529d2a9",
   "metadata": {},
   "outputs": [
    {
     "name": "stdout",
     "output_type": "stream",
     "text": [
      "Width: 1280.0\n",
      "Height: 720.0\n",
      "FPS: 30.0\n",
      "Brightness: 0.0\n",
      "Contrast: 50.0\n"
     ]
    }
   ],
   "source": [
    "# Open the default camera\n",
    "cap = cv2.VideoCapture(0)\n",
    "\n",
    "# Check if camera opened successfully\n",
    "if not cap.isOpened():\n",
    "    print(\"Error: Could not open camera.\")\n",
    "    exit()\n",
    "\n",
    "# Set camera parameters\n",
    "cap.set(cv2.CAP_PROP_FRAME_WIDTH, 1280)   # Width\n",
    "cap.set(cv2.CAP_PROP_FRAME_HEIGHT, 720)   # Height\n",
    "cap.set(cv2.CAP_PROP_FPS, 30)             # Frames per second\n",
    "cap.set(cv2.CAP_PROP_BRIGHTNESS, 150)     # Brightness (0-255)\n",
    "cap.set(cv2.CAP_PROP_CONTRAST, 50)        # Contrast (0-255)\n",
    "\n",
    "# Print current parameters to verify\n",
    "print(\"Width:\", cap.get(cv2.CAP_PROP_FRAME_WIDTH))\n",
    "print(\"Height:\", cap.get(cv2.CAP_PROP_FRAME_HEIGHT))\n",
    "print(\"FPS:\", cap.get(cv2.CAP_PROP_FPS))\n",
    "print(\"Brightness:\", cap.get(cv2.CAP_PROP_BRIGHTNESS))\n",
    "print(\"Contrast:\", cap.get(cv2.CAP_PROP_CONTRAST))\n",
    "\n",
    "while True:\n",
    "    ret, frame = cap.read()\n",
    "    if not ret:\n",
    "        break\n",
    "    \n",
    "    cv2.imshow('Adjusted Camera Feed', frame)\n",
    "    \n",
    "    if cv2.waitKey(1) & 0xFF == ord('q'):\n",
    "        break\n",
    "\n",
    "cap.release()\n",
    "cv2.destroyAllWindows()"
   ]
  },
  {
   "cell_type": "markdown",
   "id": "83e7bebc",
   "metadata": {},
   "source": [
    "\n",
    "## 4. Show Date and Time on Videos using OpenCV Python\n",
    "\n",
    "This example captures video from the camera and overlays the current date and time on each frame using `cv2.putText` and the `datetime` module.\n"
   ]
  },
  {
   "cell_type": "code",
   "execution_count": null,
   "id": "edcf6682",
   "metadata": {},
   "outputs": [],
   "source": [
    "# Open the default camera\n",
    "cap = cv2.VideoCapture(0)\n",
    "\n",
    "# Check if camera opened successfully\n",
    "if not cap.isOpened():\n",
    "    print(\"Error: Could not open camera.\")\n",
    "    exit()\n",
    "\n",
    "while True:\n",
    "    ret, frame = cap.read()\n",
    "    if not ret:\n",
    "        break\n",
    "    \n",
    "    # Get current date and time\n",
    "    current_time = datetime.now().strftime(\"%Y-%m-%d %H:%M:%S\")\n",
    "    \n",
    "    # Put text on the frame (text, position, font, scale, color, thickness)\n",
    "    font = cv2.FONT_HERSHEY_SIMPLEX\n",
    "    cv2.putText(frame, current_time, (10, 50), font, 1, (0, 255, 255), 2, cv2.LINE_AA)\n",
    "    \n",
    "    # Display the frame\n",
    "    cv2.imshow('Video with Date/Time', frame)\n",
    "    \n",
    "    if cv2.waitKey(1) & 0xFF == ord('q'):\n",
    "        break\n",
    "\n",
    "cap.release()\n",
    "cv2.destroyAllWindows()"
   ]
  },
  {
   "cell_type": "markdown",
   "id": "065fc1a9",
   "metadata": {},
   "source": [
    "## 5. Handle Mouse Events in OpenCV\n",
    "\n",
    "This example sets up a mouse callback to handle events like left-click (draw a circle) and right-click (draw a rectangle) on an image window.\n"
   ]
  },
  {
   "cell_type": "code",
   "execution_count": null,
   "id": "a5f9032c",
   "metadata": {},
   "outputs": [],
   "source": [
    "# Mouse callback function\n",
    "def mouse_callback(event, x, y, flags, param):\n",
    "    if event == cv2.EVENT_LBUTTONDOWN:\n",
    "        # Draw a blue circle on left-click\n",
    "        cv2.circle(img, (x, y), 10, (255, 0, 0), -1)\n",
    "    elif event == cv2.EVENT_RBUTTONDOWN:\n",
    "        # Draw a green rectangle on right-click\n",
    "        cv2.rectangle(img, (x-10, y-10), (x+10, y+10), (0, 255, 0), 2)\n",
    "    \n",
    "    # Refresh the display\n",
    "    cv2.imshow('Image', img)\n",
    "\n",
    "# Create a blank image\n",
    "img = np.zeros((512, 512, 3), np.uint8)\n",
    "\n",
    "# Create a window and bind the mouse callback\n",
    "cv2.namedWindow('Image')\n",
    "cv2.setMouseCallback('Image', mouse_callback)\n",
    "\n",
    "# Display the image\n",
    "cv2.imshow('Image', img)\n",
    "\n",
    "# Wait for 'q' to quit\n",
    "while True:\n",
    "    if cv2.waitKey(1) & 0xFF == ord('q'):\n",
    "        break\n",
    "\n",
    "cv2.destroyAllWindows()"
   ]
  },
  {
   "cell_type": "code",
   "execution_count": null,
   "id": "0869b4d2",
   "metadata": {},
   "outputs": [],
   "source": []
  }
 ],
 "metadata": {
  "kernelspec": {
   "display_name": "base",
   "language": "python",
   "name": "python3"
  },
  "language_info": {
   "codemirror_mode": {
    "name": "ipython",
    "version": 3
   },
   "file_extension": ".py",
   "mimetype": "text/x-python",
   "name": "python",
   "nbconvert_exporter": "python",
   "pygments_lexer": "ipython3",
   "version": "3.12.3"
  }
 },
 "nbformat": 4,
 "nbformat_minor": 5
}
